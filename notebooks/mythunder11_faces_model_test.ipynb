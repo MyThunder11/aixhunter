{
 "cells": [
  {
   "cell_type": "code",
   "execution_count": 1,
   "metadata": {},
   "outputs": [],
   "source": [
    "import pandas as pd\n",
    "import numpy as np\n",
    "import cv2\n",
    "import os \n",
    "from tensorflow import keras\n",
    "import urllib.request\n",
    "import matplotlib.pyplot as plt\n",
    "import tensorflow as tf"
   ]
  },
  {
   "cell_type": "code",
   "execution_count": 38,
   "metadata": {},
   "outputs": [],
   "source": [
    "eff_model = keras.models.load_model('../model/effmodel_0.98_20230607-081108.h5')\n",
    "dn_model = keras.models.load_model('../model/dnmodel_95.52_20230606-152918.h5')\n",
    "y_test = np.load('/Users/aminebenani/Downloads/y_test.npy')\n",
    "vgg_model = keras.models.load_model('../model/vggmodel_1.0_20230606-135701.h5')"
   ]
  },
  {
   "cell_type": "code",
   "execution_count": 55,
   "metadata": {},
   "outputs": [],
   "source": [
    "def get_prediction(url='', model=eff_model, path=''):\n",
    "    if path == '':\n",
    "        path = keras.utils.get_file(origin=url)\n",
    "\n",
    "    img = keras.utils.load_img(\n",
    "        path, target_size=(256, 256)\n",
    "    )\n",
    "    img_array = keras.utils.img_to_array(img)\n",
    "    img_array = tf.expand_dims(img_array, 0) \n",
    "\n",
    "    predictions = model.predict(img_array)\n",
    "    print(\n",
    "        \"This image most likely belongs to {} with a {:.2f} percent confidence.\"\n",
    "        .format([np.argmax(predictions)], 100 * np.max(predictions)))\n",
    "\n",
    "\n"
   ]
  },
  {
   "cell_type": "code",
   "execution_count": 56,
   "metadata": {},
   "outputs": [
    {
     "name": "stdout",
     "output_type": "stream",
     "text": [
      "1/1 [==============================] - 0s 80ms/step\n",
      "This image most likely belongs to [0] with a 0.00 percent confidence.\n"
     ]
    }
   ],
   "source": [
    "get_prediction(path='/Users/aminebenani/Downloads/00MZYXAT77.jpg', model=eff_model)"
   ]
  },
  {
   "cell_type": "code",
   "execution_count": 53,
   "metadata": {},
   "outputs": [
    {
     "name": "stdout",
     "output_type": "stream",
     "text": [
      "1/1 [==============================] - 1s 904ms/step\n",
      "This image most likely belongs to [0] with a 73.11 percent confidence.\n"
     ]
    }
   ],
   "source": [
    "get_prediction(path='/Users/aminebenani/Downloads/pape_fake.png', model=dn_model)"
   ]
  },
  {
   "cell_type": "code",
   "execution_count": 54,
   "metadata": {},
   "outputs": [
    {
     "name": "stdout",
     "output_type": "stream",
     "text": [
      "1/1 [==============================] - 0s 104ms/step\n",
      "This image most likely belongs to [0] with a 73.11 percent confidence.\n"
     ]
    }
   ],
   "source": [
    "get_prediction(path='/Users/aminebenani/Downloads/pape_fake.png', model=vgg_model)"
   ]
  },
  {
   "cell_type": "code",
   "execution_count": null,
   "metadata": {},
   "outputs": [],
   "source": []
  }
 ],
 "metadata": {
  "kernelspec": {
   "display_name": "aixhunter",
   "language": "python",
   "name": "python3"
  },
  "language_info": {
   "codemirror_mode": {
    "name": "ipython",
    "version": 3
   },
   "file_extension": ".py",
   "mimetype": "text/x-python",
   "name": "python",
   "nbconvert_exporter": "python",
   "pygments_lexer": "ipython3",
   "version": "3.10.6"
  },
  "orig_nbformat": 4
 },
 "nbformat": 4,
 "nbformat_minor": 2
}
