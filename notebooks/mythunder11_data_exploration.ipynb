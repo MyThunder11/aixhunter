{
 "cells": [
  {
   "attachments": {},
   "cell_type": "markdown",
   "metadata": {},
   "source": [
    "# Imports"
   ]
  },
  {
   "cell_type": "code",
   "execution_count": 55,
   "metadata": {},
   "outputs": [],
   "source": [
    "import pandas as pd\n",
    "import numpy as np\n",
    "import cv2\n",
    "import os \n",
    "import matplotlib.pyplot as plt\n",
    "import seaborn as sns\n",
    "import tqdm\n",
    "from tensorflow import keras\n",
    "from keras import layers, models, optimizers\n",
    "from sklearn.model_selection import train_test_split\n"
   ]
  },
  {
   "attachments": {},
   "cell_type": "markdown",
   "metadata": {},
   "source": [
    "# Data Preprocessing"
   ]
  },
  {
   "cell_type": "code",
   "execution_count": 80,
   "metadata": {},
   "outputs": [],
   "source": [
    "def get_df_from_dir(dir_path):\n",
    "    imgs = []\n",
    "    y = []\n",
    "    for file in os.listdir(dir_path):\n",
    "        path = dir_path + file\n",
    "        img = cv2.imread(path)\n",
    "        imgs.append(img)\n",
    "    imgs = np.array(imgs)/255\n",
    "    y = [0 if 'REAL' in dir_path else 1 for i in range(len(imgs))]\n",
    "    return imgs, y"
   ]
  },
  {
   "cell_type": "code",
   "execution_count": 81,
   "metadata": {},
   "outputs": [],
   "source": [
    "train_real_path = '../data/train/REAL/'\n",
    "train_fake_path = '../data/train/FAKE/'\n",
    "test_real_path = '../data/test/REAL/'\n",
    "test_fake_path = '../data/test/FAKE/'"
   ]
  },
  {
   "cell_type": "code",
   "execution_count": 82,
   "metadata": {},
   "outputs": [],
   "source": [
    "train_real_imgs, train_real_y = get_df_from_dir(train_real_path)\n",
    "train_fake_imgs, train_fake_y = get_df_from_dir(train_fake_path)\n",
    "test_real_imgs, test_real_y = get_df_from_dir(test_real_path)\n",
    "test_fake_imgs, test_fake_y = get_df_from_dir(test_fake_path)"
   ]
  },
  {
   "cell_type": "code",
   "execution_count": 88,
   "metadata": {},
   "outputs": [],
   "source": [
    "X = np.concatenate((train_real_imgs, train_fake_imgs))\n",
    "y = np.concatenate((train_real_y, train_fake_y))\n",
    "X_test = np.concatenate((test_real_imgs, test_fake_imgs))\n",
    "y_test = np.concatenate((test_real_y, test_fake_y))"
   ]
  },
  {
   "cell_type": "code",
   "execution_count": 89,
   "metadata": {},
   "outputs": [
    {
     "data": {
      "text/plain": [
       "((100000, 32, 32, 3), (100000,), (20000, 32, 32, 3), (20000,))"
      ]
     },
     "execution_count": 89,
     "metadata": {},
     "output_type": "execute_result"
    }
   ],
   "source": [
    "X.shape, y.shape, X_test.shape, y_test.shape"
   ]
  },
  {
   "cell_type": "code",
   "execution_count": 90,
   "metadata": {},
   "outputs": [],
   "source": [
    "X_train, X_val, y_train, y_val = train_test_split(X, y, test_size=0.2)"
   ]
  },
  {
   "attachments": {},
   "cell_type": "markdown",
   "metadata": {},
   "source": [
    "# Model Training\n"
   ]
  },
  {
   "cell_type": "code",
   "execution_count": 91,
   "metadata": {},
   "outputs": [],
   "source": [
    "def initialize_cnn_model():\n",
    "    model = models.Sequential()\n",
    "    model.add(layers.Conv2D(32, (3, 3), activation='relu', input_shape=X_train.shape[1:]))\n",
    "    model.add(layers.MaxPooling2D((2, 2)))\n",
    "    model.add(layers.Dropout(0.25))\n",
    "    model.add(layers.Conv2D(64, (3, 3), activation='relu'))\n",
    "    model.add(layers.Dropout(0.25))\n",
    "    model.add(layers.MaxPooling2D((2, 2)))\n",
    "    model.add(layers.Conv2D(128, (3, 3), activation='relu'))\n",
    "    model.add(layers.Dropout(0.25))\n",
    "    model.add(layers.MaxPooling2D((2, 2)))\n",
    "    model.add(layers.Flatten())\n",
    "    model.add(layers.Dense(128, activation='relu'))\n",
    "    model.add(layers.Dropout(0.25))\n",
    "    model.add(layers.Dense(1, activation='sigmoid'))\n",
    "    return model\n"
   ]
  },
  {
   "cell_type": "code",
   "execution_count": null,
   "metadata": {},
   "outputs": [],
   "source": [
    "def compile_model(learning_rate=1e-4):\n",
    "    model = initialize_cnn_model()\n",
    "    model.compile(optimizer=optimizers.Adam(learning_rate=learning_rate),\n",
    "              loss='binary_crossentropy',\n",
    "              metrics=['accuracy'])\n",
    "    return model\n"
   ]
  },
  {
   "cell_type": "code",
   "execution_count": null,
   "metadata": {},
   "outputs": [],
   "source": [
    "def train_model(\n",
    "        X_train,\n",
    "        y_train,\n",
    "        X_val,\n",
    "        y_val,\n",
    "        epochs=100,\n",
    "        batch_size=32,\n",
    "        patience=5\n",
    "        ):\n",
    "    es = keras.callbacks.EarlyStopping(monitor='val_loss', patience=patience)\n",
    "    model = compile_model()\n",
    "    history = model.fit(\n",
    "        X_train, \n",
    "        y_train, \n",
    "        epochs=epochs, \n",
    "        batch_size=batch_size, \n",
    "        validation_data=(X_val, y_val),\n",
    "        callbacks=[es]\n",
    "        )\n",
    "    return model, history"
   ]
  },
  {
   "cell_type": "code",
   "execution_count": 109,
   "metadata": {},
   "outputs": [
    {
     "name": "stdout",
     "output_type": "stream",
     "text": [
      "Epoch 1/1000\n",
      "2500/2500 [==============================] - 21s 8ms/step - loss: 0.4615 - accuracy: 0.7767 - val_loss: 0.4154 - val_accuracy: 0.8450\n",
      "Epoch 2/1000\n",
      "2500/2500 [==============================] - 21s 9ms/step - loss: 0.3393 - accuracy: 0.8548 - val_loss: 0.3572 - val_accuracy: 0.8716\n",
      "Epoch 3/1000\n",
      "2500/2500 [==============================] - 21s 8ms/step - loss: 0.2902 - accuracy: 0.8793 - val_loss: 0.3152 - val_accuracy: 0.8903\n",
      "Epoch 4/1000\n",
      "2500/2500 [==============================] - 21s 8ms/step - loss: 0.2675 - accuracy: 0.8891 - val_loss: 0.2801 - val_accuracy: 0.8988\n",
      "Epoch 5/1000\n",
      "2500/2500 [==============================] - 21s 8ms/step - loss: 0.2532 - accuracy: 0.8970 - val_loss: 0.2678 - val_accuracy: 0.9118\n",
      "Epoch 6/1000\n",
      "2500/2500 [==============================] - 21s 9ms/step - loss: 0.2397 - accuracy: 0.9034 - val_loss: 0.2734 - val_accuracy: 0.9025\n",
      "Epoch 7/1000\n",
      "2500/2500 [==============================] - 23s 9ms/step - loss: 0.2291 - accuracy: 0.9077 - val_loss: 0.2487 - val_accuracy: 0.9116\n",
      "Epoch 8/1000\n",
      "2500/2500 [==============================] - 21s 8ms/step - loss: 0.2191 - accuracy: 0.9126 - val_loss: 0.2470 - val_accuracy: 0.9062\n",
      "Epoch 9/1000\n",
      "2500/2500 [==============================] - 21s 8ms/step - loss: 0.2119 - accuracy: 0.9155 - val_loss: 0.2306 - val_accuracy: 0.9244\n",
      "Epoch 10/1000\n",
      "2500/2500 [==============================] - 21s 8ms/step - loss: 0.2052 - accuracy: 0.9171 - val_loss: 0.2293 - val_accuracy: 0.9212\n",
      "Epoch 11/1000\n",
      "2500/2500 [==============================] - 21s 8ms/step - loss: 0.2009 - accuracy: 0.9208 - val_loss: 0.2139 - val_accuracy: 0.9287\n",
      "Epoch 12/1000\n",
      "2500/2500 [==============================] - 21s 8ms/step - loss: 0.1916 - accuracy: 0.9237 - val_loss: 0.1988 - val_accuracy: 0.9305\n",
      "Epoch 13/1000\n",
      "2500/2500 [==============================] - 21s 9ms/step - loss: 0.1879 - accuracy: 0.9257 - val_loss: 0.2064 - val_accuracy: 0.9303\n",
      "Epoch 14/1000\n",
      "2500/2500 [==============================] - 20s 8ms/step - loss: 0.1816 - accuracy: 0.9289 - val_loss: 0.1959 - val_accuracy: 0.9333\n",
      "Epoch 15/1000\n",
      "2500/2500 [==============================] - 20s 8ms/step - loss: 0.1797 - accuracy: 0.9282 - val_loss: 0.1983 - val_accuracy: 0.9331\n",
      "Epoch 16/1000\n",
      "2500/2500 [==============================] - 21s 8ms/step - loss: 0.1753 - accuracy: 0.9307 - val_loss: 0.1934 - val_accuracy: 0.9334\n",
      "Epoch 17/1000\n",
      "2500/2500 [==============================] - 22s 9ms/step - loss: 0.1710 - accuracy: 0.9324 - val_loss: 0.1956 - val_accuracy: 0.9268\n",
      "Epoch 18/1000\n",
      "2500/2500 [==============================] - 21s 8ms/step - loss: 0.1673 - accuracy: 0.9338 - val_loss: 0.1795 - val_accuracy: 0.9365\n",
      "Epoch 19/1000\n",
      "2500/2500 [==============================] - 21s 8ms/step - loss: 0.1637 - accuracy: 0.9365 - val_loss: 0.1821 - val_accuracy: 0.9346\n",
      "Epoch 20/1000\n",
      "2500/2500 [==============================] - 21s 8ms/step - loss: 0.1618 - accuracy: 0.9362 - val_loss: 0.2015 - val_accuracy: 0.9299\n",
      "Epoch 21/1000\n",
      "2500/2500 [==============================] - 21s 8ms/step - loss: 0.1584 - accuracy: 0.9379 - val_loss: 0.1717 - val_accuracy: 0.9371\n",
      "Epoch 22/1000\n",
      "2500/2500 [==============================] - 22s 9ms/step - loss: 0.1556 - accuracy: 0.9390 - val_loss: 0.1828 - val_accuracy: 0.9394\n",
      "Epoch 23/1000\n",
      "2500/2500 [==============================] - 21s 9ms/step - loss: 0.1518 - accuracy: 0.9404 - val_loss: 0.1806 - val_accuracy: 0.9395\n",
      "Epoch 24/1000\n",
      "2500/2500 [==============================] - 22s 9ms/step - loss: 0.1497 - accuracy: 0.9412 - val_loss: 0.1653 - val_accuracy: 0.9414\n",
      "Epoch 25/1000\n",
      "2500/2500 [==============================] - 22s 9ms/step - loss: 0.1480 - accuracy: 0.9425 - val_loss: 0.1603 - val_accuracy: 0.9426\n",
      "Epoch 26/1000\n",
      "2500/2500 [==============================] - 22s 9ms/step - loss: 0.1463 - accuracy: 0.9439 - val_loss: 0.1681 - val_accuracy: 0.9406\n",
      "Epoch 27/1000\n",
      "2500/2500 [==============================] - 21s 8ms/step - loss: 0.1424 - accuracy: 0.9443 - val_loss: 0.1630 - val_accuracy: 0.9430\n",
      "Epoch 28/1000\n",
      "2500/2500 [==============================] - 22s 9ms/step - loss: 0.1386 - accuracy: 0.9464 - val_loss: 0.1602 - val_accuracy: 0.9416\n",
      "Epoch 29/1000\n",
      "2500/2500 [==============================] - 22s 9ms/step - loss: 0.1383 - accuracy: 0.9469 - val_loss: 0.1633 - val_accuracy: 0.9415\n",
      "Epoch 30/1000\n",
      "2500/2500 [==============================] - 21s 8ms/step - loss: 0.1352 - accuracy: 0.9474 - val_loss: 0.1586 - val_accuracy: 0.9414\n",
      "Epoch 31/1000\n",
      "2500/2500 [==============================] - 21s 8ms/step - loss: 0.1349 - accuracy: 0.9474 - val_loss: 0.1653 - val_accuracy: 0.9401\n",
      "Epoch 32/1000\n",
      "2500/2500 [==============================] - 21s 8ms/step - loss: 0.1320 - accuracy: 0.9491 - val_loss: 0.1649 - val_accuracy: 0.9384\n",
      "Epoch 33/1000\n",
      "2500/2500 [==============================] - 22s 9ms/step - loss: 0.1306 - accuracy: 0.9491 - val_loss: 0.1528 - val_accuracy: 0.9420\n",
      "Epoch 34/1000\n",
      "2500/2500 [==============================] - 22s 9ms/step - loss: 0.1289 - accuracy: 0.9495 - val_loss: 0.1502 - val_accuracy: 0.9452\n",
      "Epoch 35/1000\n",
      "2500/2500 [==============================] - 23s 9ms/step - loss: 0.1257 - accuracy: 0.9511 - val_loss: 0.1452 - val_accuracy: 0.9469\n",
      "Epoch 36/1000\n",
      "2500/2500 [==============================] - 21s 9ms/step - loss: 0.1256 - accuracy: 0.9509 - val_loss: 0.1528 - val_accuracy: 0.9484\n",
      "Epoch 37/1000\n",
      "2500/2500 [==============================] - 22s 9ms/step - loss: 0.1227 - accuracy: 0.9522 - val_loss: 0.1496 - val_accuracy: 0.9474\n",
      "Epoch 38/1000\n",
      "2500/2500 [==============================] - 22s 9ms/step - loss: 0.1227 - accuracy: 0.9524 - val_loss: 0.1468 - val_accuracy: 0.9451\n",
      "Epoch 39/1000\n",
      "2500/2500 [==============================] - 22s 9ms/step - loss: 0.1196 - accuracy: 0.9532 - val_loss: 0.1408 - val_accuracy: 0.9464\n",
      "Epoch 40/1000\n",
      "2500/2500 [==============================] - 22s 9ms/step - loss: 0.1179 - accuracy: 0.9537 - val_loss: 0.1618 - val_accuracy: 0.9381\n",
      "Epoch 41/1000\n",
      "2500/2500 [==============================] - 21s 9ms/step - loss: 0.1151 - accuracy: 0.9548 - val_loss: 0.1433 - val_accuracy: 0.9481\n",
      "Epoch 42/1000\n",
      "2500/2500 [==============================] - 22s 9ms/step - loss: 0.1158 - accuracy: 0.9551 - val_loss: 0.1477 - val_accuracy: 0.9469\n",
      "Epoch 43/1000\n",
      "2500/2500 [==============================] - 21s 8ms/step - loss: 0.1137 - accuracy: 0.9556 - val_loss: 0.1419 - val_accuracy: 0.9477\n",
      "Epoch 44/1000\n",
      "2500/2500 [==============================] - 21s 9ms/step - loss: 0.1117 - accuracy: 0.9560 - val_loss: 0.1431 - val_accuracy: 0.9467\n"
     ]
    }
   ],
   "source": [
    "model, history = train_model(X_train, y_train, X_val, y_val, epochs=1000, batch_size=32, patience=5)"
   ]
  },
  {
   "cell_type": "code",
   "execution_count": 110,
   "metadata": {},
   "outputs": [
    {
     "data": {
      "image/png": "[encoded data removed]",
      "text/plain": [
       "<Figure size 640x480 with 1 Axes>"
      ]
     },
     "metadata": {},
     "output_type": "display_data"
    }
   ],
   "source": [
    "def plot_history(history):\n",
    "    plt.plot(history.history['accuracy'], label='accuracy')\n",
    "    plt.plot(history.history['val_accuracy'], label = 'val_accuracy')\n",
    "    plt.xlabel('Epoch')\n",
    "    plt.ylabel('Accuracy')\n",
    "    plt.ylim([0, 1])\n",
    "    plt.legend(loc='lower right')\n",
    "    plt.show()\n",
    "\n",
    "plot_history(history)"
   ]
  },
  {
   "cell_type": "code",
   "execution_count": 111,
   "metadata": {},
   "outputs": [
    {
     "data": {
      "text/plain": [
       "0.9559624791145325"
      ]
     },
     "execution_count": 111,
     "metadata": {},
     "output_type": "execute_result"
    }
   ],
   "source": [
    "train_accuracy = history.history['accuracy'][-1]\n",
    "train_accuracy"
   ]
  },
  {
   "cell_type": "code",
   "execution_count": 112,
   "metadata": {},
   "outputs": [
    {
     "name": "stdout",
     "output_type": "stream",
     "text": [
      "625/625 [==============================] - 2s 3ms/step - loss: 0.1410 - accuracy: 0.9459\n"
     ]
    }
   ],
   "source": [
    "test_accuracy = model.evaluate(X_test, y_test)[1]"
   ]
  },
  {
   "cell_type": "code",
   "execution_count": 113,
   "metadata": {},
   "outputs": [
    {
     "data": {
      "text/plain": [
       "0.9459499716758728"
      ]
     },
     "execution_count": 113,
     "metadata": {},
     "output_type": "execute_result"
    }
   ],
   "source": [
    "test_accuracy"
   ]
  },
  {
   "cell_type": "code",
   "execution_count": null,
   "metadata": {},
   "outputs": [],
   "source": []
  }
 ],
 "metadata": {
  "kernelspec": {
   "display_name": "lewagon",
   "language": "python",
   "name": "python3"
  },
  "language_info": {
   "codemirror_mode": {
    "name": "ipython",
    "version": 3
   },
   "file_extension": ".py",
   "mimetype": "text/x-python",
   "name": "python",
   "nbconvert_exporter": "python",
   "pygments_lexer": "ipython3",
   "version": "3.10.6"
  },
  "orig_nbformat": 4
 },
 "nbformat": 4,
 "nbformat_minor": 2
}
